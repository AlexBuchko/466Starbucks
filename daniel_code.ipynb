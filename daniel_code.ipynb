{
 "cells": [
  {
   "cell_type": "code",
   "execution_count": 3,
   "metadata": {},
   "outputs": [
    {
     "data": {
      "text/plain": [
       "population_natural_increase_2016                                                0.021180\n",
       "population_net_migration_rate_2016                                              0.018668\n",
       "population_by_age_total_18_24_2016                                              0.018554\n",
       "zipcode                                                                         0.017525\n",
       "population_group_quarters_total_estimate_2016                                   0.015119\n",
       "                                                                                  ...   \n",
       "population_by_race_total_black_combination_male_2016                            0.000000\n",
       "population_by_race_total_black_combination_female_2016                          0.000000\n",
       "population_by_race_total_american_indian_alaska_native_combination_male_2016    0.000000\n",
       "population_by_race_total_asian_combination_male_2016                            0.000000\n",
       "population_by_race_total_white_combination_female_2016                          0.000000\n",
       "Length: 75, dtype: float64"
      ]
     },
     "execution_count": 3,
     "metadata": {},
     "output_type": "execute_result"
    }
   ],
   "source": [
    "import pandas as pd\n",
    "import numpy as np\n",
    "from pathlib import Path\n",
    "import daniel_helper\n",
    "\n",
    "home = str(Path.home()) # all other paths are relative to this path. change to something else if this is not the case on your system\n",
    "from importlib import import_module\n",
    "df = pd.read_csv(f\"allJoined.csv\", index_col=0)\n",
    "df = df.dropna()\n",
    "df.head()\n",
    "df = df.loc[df.numStarbucks != 0]\n",
    "df['numStarbucks'] = df['numStarbucks'].replace([7.0, 8.0, 9.0, 10.0, 11.0, 12.0, 13.0, 14.0, 15.0, 16.0, 17.0, 18.0, 19.0], 7.0)\n",
    "X = df.drop(['numStarbucks'], axis=1)\n",
    "y = df['numStarbucks']\n",
    "\n",
    "#### NO NEED TO EDIT ####\n",
    "\n",
    "temp = daniel_helper.do_feature_importance(X, y)\n",
    "temp2 = {}\n",
    "for item in temp.keys():\n",
    "    temp2[item] = abs(temp[item])\n",
    "temp3 = pd.Series(temp2).sort_values(ascending=False)\n",
    "temp3"
   ]
  }
 ],
 "metadata": {
  "kernelspec": {
   "display_name": "Python 3.10.6 ('Main')",
   "language": "python",
   "name": "python3"
  },
  "language_info": {
   "codemirror_mode": {
    "name": "ipython",
    "version": 3
   },
   "file_extension": ".py",
   "mimetype": "text/x-python",
   "name": "python",
   "nbconvert_exporter": "python",
   "pygments_lexer": "ipython3",
   "version": "3.10.6"
  },
  "orig_nbformat": 4,
  "vscode": {
   "interpreter": {
    "hash": "c1b7983f5379a74aaa065db4f4f1794df776760a88f2be34c33f726ce7ee9d88"
   }
  }
 },
 "nbformat": 4,
 "nbformat_minor": 2
}
