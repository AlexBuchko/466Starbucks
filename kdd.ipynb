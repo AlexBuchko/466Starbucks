{
 "cells": [
  {
   "cell_type": "code",
   "execution_count": 18,
   "metadata": {},
   "outputs": [],
   "source": [
    "import pandas as pd\n",
    "import numpy as np\n"
   ]
  },
  {
   "cell_type": "code",
   "execution_count": 24,
   "metadata": {},
   "outputs": [
    {
     "name": "stdout",
     "output_type": "stream",
     "text": [
      "The autoreload extension is already loaded. To reload it, use:\n",
      "  %reload_ext autoreload\n"
     ]
    }
   ],
   "source": [
    "%load_ext autoreload\n",
    "%autoreload 2\n",
    "\n",
    "# make sure your run the cell above before running this\n",
    "import helper"
   ]
  },
  {
   "cell_type": "code",
   "execution_count": 25,
   "metadata": {},
   "outputs": [],
   "source": [
    "allJoined = pd.read_csv(\"allJoined.csv\", index_col=0)\n",
    "allJoined = allJoined.set_index(\"zipcode\")\n",
    "t = allJoined[\"numStarbucks\"]\n",
    "X = allJoined.drop(columns=\"numStarbucks\")"
   ]
  },
  {
   "cell_type": "code",
   "execution_count": 43,
   "metadata": {},
   "outputs": [],
   "source": [
    "rf_RMSE, rf_importances = helper.sk_random_forest(X, t, 10, 100)"
   ]
  },
  {
   "cell_type": "code",
   "execution_count": 44,
   "metadata": {},
   "outputs": [
    {
     "data": {
      "text/plain": [
       "1.1987866152122462"
      ]
     },
     "execution_count": 44,
     "metadata": {},
     "output_type": "execute_result"
    }
   ],
   "source": [
    "rf_RMSE"
   ]
  },
  {
   "cell_type": "code",
   "execution_count": 45,
   "metadata": {},
   "outputs": [
    {
     "data": {
      "text/plain": [
       "mean_income                                                             0.368235\n",
       "median_income                                                           0.308008\n",
       "education_percent_of_adults_with_a_high_school_diploma_only_2015-19     0.025459\n",
       "population_death_rate_2016                                              0.020899\n",
       "unemployment_unemployment_rate_2016                                     0.019330\n",
       "                                                                          ...   \n",
       "population_by_race_total_american_indian_alaska_native_female_2016.1    0.000063\n",
       "population_urban_influence_code_2013_9                                  0.000037\n",
       "population_urban_influence_code_2013_11                                 0.000034\n",
       "population_urban_influence_code_2013_10                                 0.000021\n",
       "population_urban_influence_code_2013_12                                 0.000020\n",
       "Length: 79, dtype: float64"
      ]
     },
     "execution_count": 45,
     "metadata": {},
     "output_type": "execute_result"
    }
   ],
   "source": [
    "rf_importances"
   ]
  },
  {
   "cell_type": "code",
   "execution_count": 48,
   "metadata": {},
   "outputs": [
    {
     "data": {
      "text/plain": [
       "mean_income                                                               0.368235\n",
       "median_income                                                             0.308008\n",
       "education_percent_of_adults_with_a_high_school_diploma_only_2015-19       0.025459\n",
       "population_death_rate_2016                                                0.020899\n",
       "unemployment_unemployment_rate_2016                                       0.019330\n",
       "population_deaths_2016                                                    0.019138\n",
       "population_estimate_2016                                                  0.017814\n",
       "population_natural_increase_2016                                          0.015978\n",
       "education_percent_of_adults_with_a_bachelor's_degree_or_higher_2015-19    0.013727\n",
       "population_net_international_migration_2016                               0.009319\n",
       "population_by_age_total_65_over_2016                                      0.009218\n",
       "population_change_2016                                                    0.009052\n",
       "population_net_domestic_migration_rate_2016                               0.008997\n",
       "population_by_age_total_45_64_2016                                        0.008908\n",
       "population_natural_increase_rate_2016                                     0.008582\n",
       "population_by_age_total_14_17_2016                                        0.008325\n",
       "population_by_age_total_15_44_2016                                        0.008027\n",
       "population_by_age_total_5_13_2016                                         0.007997\n",
       "population_net_international_migration_rate_2016                          0.007799\n",
       "population_by_age_total_18_24_2016                                        0.007751\n",
       "dtype: float64"
      ]
     },
     "execution_count": 48,
     "metadata": {},
     "output_type": "execute_result"
    }
   ],
   "source": [
    "rf_importances.head(20)"
   ]
  },
  {
   "cell_type": "markdown",
   "metadata": {},
   "source": [
    "# calculating without income metrics"
   ]
  },
  {
   "cell_type": "code",
   "execution_count": 52,
   "metadata": {},
   "outputs": [
    {
     "data": {
      "text/plain": [
       "1.1432606455266519"
      ]
     },
     "execution_count": 52,
     "metadata": {},
     "output_type": "execute_result"
    }
   ],
   "source": [
    "no_income_X = X.drop(columns=[\"mean_income\", \"median_income\"])\n",
    "no_income_RMSE, no_income_importances = helper.sk_random_forest(no_income_X, t, 10, 100)\n",
    "no_income_RMSE"
   ]
  },
  {
   "cell_type": "code",
   "execution_count": 54,
   "metadata": {},
   "outputs": [
    {
     "data": {
      "text/plain": [
       "education_percent_of_adults_with_a_high_school_diploma_only_2015-19                  0.086287\n",
       "population_death_rate_2016                                                           0.078387\n",
       "unemployment_unemployment_rate_2016                                                  0.061079\n",
       "population_deaths_2016                                                               0.059566\n",
       "population_estimate_2016                                                             0.053289\n",
       "education_percent_of_adults_with_a_bachelor's_degree_or_higher_2015-19               0.044147\n",
       "population_natural_increase_2016                                                     0.042909\n",
       "population_net_international_migration_2016                                          0.029226\n",
       "population_by_age_total_65_over_2016                                                 0.028437\n",
       "population_change_2016                                                               0.027290\n",
       "population_by_age_total_45_64_2016                                                   0.026907\n",
       "population_by_age_total_14_17_2016                                                   0.025304\n",
       "population_by_age_total_5_13_2016                                                    0.025200\n",
       "population_natural_increase_rate_2016                                                0.025084\n",
       "population_net_domestic_migration_rate_2016                                          0.025006\n",
       "population_net_migration_rate_2016                                                   0.023966\n",
       "population_by_age_total_15_44_2016                                                   0.023138\n",
       "population_by_age_total_18_24_2016                                                   0.022965\n",
       "population_net_international_migration_rate_2016                                     0.022181\n",
       "education_percent_of_adults_completing_some_college_or_associate's_degree_2015-19    0.021760\n",
       "dtype: float64"
      ]
     },
     "execution_count": 54,
     "metadata": {},
     "output_type": "execute_result"
    }
   ],
   "source": [
    "no_income_importances.head(20)"
   ]
  },
  {
   "cell_type": "code",
   "execution_count": 57,
   "metadata": {},
   "outputs": [
    {
     "data": {
      "text/plain": [
       "-0.19281878563996097"
      ]
     },
     "execution_count": 57,
     "metadata": {},
     "output_type": "execute_result"
    }
   ],
   "source": [
    "X[\"education_percent_of_adults_with_a_high_school_diploma_only_2015-19\"].corr(X[\"median_income\"])"
   ]
  },
  {
   "cell_type": "code",
   "execution_count": 63,
   "metadata": {},
   "outputs": [
    {
     "data": {
      "text/plain": [
       "education_percent_of_adults_with_a_bachelor's_degree_or_higher_2015-19               0.431787\n",
       "education_percent_of_adults_with_a_high_school_diploma_only_2015-19                  0.368772\n",
       "population_deaths_2016                                                               0.340537\n",
       "unemployment_employed_2016                                                           0.313110\n",
       "population_urban_influence_code_2013_1                                               0.312682\n",
       "population_rural_urban_continumm_code_2013_1                                         0.312682\n",
       "unemployment_civilian_labor_force_2016                                               0.309697\n",
       "population_net_international_migration_2016                                          0.222099\n",
       "population_natural_increase_2016                                                     0.212604\n",
       "education_percent_of_adults_with_less_than_a_high_school_diploma_2015-19             0.207183\n",
       "education_percent_of_adults_completing_some_college_or_associate's_degree_2015-19    0.201964\n",
       "unemployment_unemployment_rate_2016                                                  0.150606\n",
       "population_rural_urban_continumm_code_2013_6                                         0.143841\n",
       "unemployment_unemployed_2016                                                         0.141970\n",
       "population_estimate_2016                                                             0.135324\n",
       "population_change_2016                                                               0.128787\n",
       "population_death_rate_2016                                                           0.127996\n",
       "population_economic_typology_2015_0                                                  0.112364\n",
       "population_urban_influence_code_2013_6                                               0.109306\n",
       "population_rural_urban_continumm_code_2013_7                                         0.108047\n",
       "dtype: float64"
      ]
     },
     "execution_count": 63,
     "metadata": {},
     "output_type": "execute_result"
    }
   ],
   "source": [
    "income_correlations = no_income_X.apply(lambda col: col.corr(X[\"mean_income\"]))\n",
    "income_correlations.abs().sort_values(ascending=False).head(20)"
   ]
  },
  {
   "cell_type": "code",
   "execution_count": 66,
   "metadata": {},
   "outputs": [
    {
     "data": {
      "text/plain": [
       "-0.34053701164846184"
      ]
     },
     "execution_count": 66,
     "metadata": {},
     "output_type": "execute_result"
    }
   ],
   "source": [
    "X[\"population_deaths_2016\"].corr(X[\"mean_income\"])"
   ]
  },
  {
   "cell_type": "markdown",
   "metadata": {},
   "source": [
    "It's intersting that the rural-urban continoium is highly correlated with income, but doesn't show up on the important features"
   ]
  }
 ],
 "metadata": {
  "kernelspec": {
   "display_name": "Python 3.10.6 ('Main')",
   "language": "python",
   "name": "python3"
  },
  "language_info": {
   "codemirror_mode": {
    "name": "ipython",
    "version": 3
   },
   "file_extension": ".py",
   "mimetype": "text/x-python",
   "name": "python",
   "nbconvert_exporter": "python",
   "pygments_lexer": "ipython3",
   "version": "3.10.6"
  },
  "orig_nbformat": 4,
  "vscode": {
   "interpreter": {
    "hash": "c1b7983f5379a74aaa065db4f4f1794df776760a88f2be34c33f726ce7ee9d88"
   }
  }
 },
 "nbformat": 4,
 "nbformat_minor": 2
}
